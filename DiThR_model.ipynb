{
 "cells": [
  {
   "cell_type": "markdown",
   "metadata": {},
   "source": [
    "# Simulation of DiThR model"
   ]
  },
  {
   "cell_type": "markdown",
   "metadata": {},
   "source": [
    "## Modules and functions"
   ]
  },
  {
   "cell_type": "code",
   "execution_count": null,
   "metadata": {},
   "outputs": [],
   "source": [
    "#############################\n",
    "### Modules and functions ###\n",
    "#############################\n",
    "\n",
    "\n",
    "#### Modules\n",
    "\n",
    "using RandomNumbers.MersenneTwisters\n",
    "using Random\n",
    "using Distributions\n",
    "using Plots\n",
    "using CSV\n",
    "using DataFrames\n",
    "using DelimitedFiles\n",
    "using Glob\n",
    "\n",
    "\n",
    "### Function ###\n",
    "\n",
    "## return a random sample from an exponential distribution\n",
    "function rand_exponential(mean)\n",
    "    if mean <= 0.0\n",
    "        error(\"mean must be positive\")\n",
    "    end\n",
    "    -mean*log(rand())\n",
    "end\n",
    "\n"
   ]
  },
  {
   "cell_type": "markdown",
   "metadata": {},
   "source": [
    "## Gillespie's algorithm"
   ]
  },
  {
   "cell_type": "code",
   "execution_count": null,
   "metadata": {},
   "outputs": [],
   "source": [
    "\n",
    "@inbounds @fastmath function gillespie_ON_OFF_minimal_retro_nointer(time, IDOX_tot, OFF_0, ON_0, RNA_0, k_incorpo,\n",
    "                         k_repair, k_on, k_off,k_RNA, k_d, coop_factor)\n",
    "    compteur=0\n",
    "    List_time = [0.]\n",
    "    List_ON = [ON_0]\n",
    "    List_ON_incorpo = [0]\n",
    "    List_OFF = [OFF_0]\n",
    "    List_RNA = [RNA_0]\n",
    "    k_RNA_cst = k_RNA\n",
    "    while List_time[end] < time\n",
    "        rate_vector = [\n",
    "            k_on * List_OFF[end], k_off * List_ON[end],\n",
    "            k_RNA * List_ON[end], k_d * List_RNA[end],\n",
    "            k_incorpo * List_ON[end] * IDOX_tot,\n",
    "            k_repair * List_ON_incorpo[end]\n",
    "        ]\n",
    "        tot_rate = sum(rate_vector)\n",
    "        t_step = rand_exponential(1 / tot_rate)\n",
    "        compteur+=1\n",
    "        push!(List_time,List_time[end] + t_step)\n",
    "        random_number = rand()\n",
    "        if random_number <= sum(rate_vector[1:1]) / tot_rate\n",
    "            #OFF -> ON\n",
    "            push!(List_ON,List_ON[end] + 1)\n",
    "            push!(List_OFF,List_OFF[end] - 1)\n",
    "            push!(List_RNA,List_RNA[end])\n",
    "            push!(List_ON_incorpo,List_ON_incorpo[end])\n",
    "        elseif random_number <= sum(rate_vector[1:2]) / tot_rate\n",
    "            #ON -> OFF\n",
    "            push!(List_ON,List_ON[end] - 1)\n",
    "            push!(List_OFF,List_OFF[end] + 1)\n",
    "            push!(List_RNA,List_RNA[end])\n",
    "            push!(List_ON_incorpo,List_ON_incorpo[end])\n",
    "            k_RNA = k_RNA_cst\n",
    "        elseif random_number <= sum(rate_vector[1:3]) / tot_rate\n",
    "            #ON -> RNA\n",
    "            push!(List_ON,List_ON[end])\n",
    "            push!(List_OFF,List_OFF[end])\n",
    "            push!(List_RNA,List_RNA[end] + 1)\n",
    "            push!(List_ON_incorpo,List_ON_incorpo[end])\n",
    "        elseif random_number <= sum(rate_vector[1:4]) / tot_rate\n",
    "            #RNA -> ∅\n",
    "            push!(List_ON,List_ON[end])\n",
    "            push!(List_OFF,List_OFF[end])\n",
    "            push!(List_RNA,List_RNA[end] - 1)\n",
    "            push!(List_ON_incorpo,List_ON_incorpo[end])\n",
    "        elseif random_number <= sum(rate_vector[1:5]) / tot_rate\n",
    "            #ON -> ON incorpo\n",
    "            push!(List_ON,List_ON[end] - 1)\n",
    "            push!(List_OFF,List_OFF[end])\n",
    "            push!(List_RNA,List_RNA[end])\n",
    "            push!(List_ON_incorpo,List_ON_incorpo[end] + 1)\n",
    "            k_RNA = 0\n",
    "        elseif random_number <= sum(rate_vector[1:6]) / tot_rate\n",
    "            # repair reaction ON\n",
    "            push!(List_ON,List_ON[end] + 1)\n",
    "            push!(List_OFF,List_OFF[end])\n",
    "            push!(List_RNA,List_RNA[end])\n",
    "            push!(List_ON_incorpo,List_ON_incorpo[end] - 1)\n",
    "            k_RNA = k_RNA_cst * coop_factor\n",
    "        else\n",
    "            println(\"Probability should sum to 1 isn'it?\\n\")\n",
    "        end\n",
    "    end\n",
    "    return (List_time, List_ON, List_ON_incorpo, List_OFF, List_RNA)\n",
    "end"
   ]
  },
  {
   "cell_type": "markdown",
   "metadata": {},
   "source": [
    "## Parameters for the simulation"
   ]
  },
  {
   "cell_type": "code",
   "execution_count": null,
   "metadata": {},
   "outputs": [],
   "source": [
    "### Example parameters\n",
    "time=400\n",
    "IDOX_tot= 1\n",
    "OFF_0=1\n",
    "ON_0=0\n",
    "RNA_0=0\n",
    "k_incorpo=1.442510577\n",
    "k_repair=1.0911\n",
    "k_on=1.43\n",
    "k_off=1.2555\n",
    "k_RNA=35.4429\n",
    "k_d=0.16637\n",
    "coop_factor=1.96"
   ]
  },
  {
   "cell_type": "markdown",
   "metadata": {},
   "source": [
    "## CSV (traces) files generation"
   ]
  },
  {
   "cell_type": "code",
   "execution_count": null,
   "metadata": {},
   "outputs": [],
   "source": [
    "path =string(\"../IDOX_project/Model_8bis/review/Model_8bis_no_coop_nospeedup_maxLLE/\",IDOX_tot)\n",
    "mkpath(path)\n",
    "println(coop_factor)\n",
    "d_param = DataFrame([[time], [IDOX_tot], [OFF_0], [ON_0], [RNA_0], [k_incorpo], [k_repair], [k_on], [k_off], [k_RNA], [k_d],[coop_factor]], [:time, :IDOX_tot, :OFF_0, :ON_0, :RNA_0, :k_incorpo, :k_repair, :k_on, :k_off, :k_RNA, :k_d, :coop_factor])\n",
    "file_param = string(path ,\"/parameters.csv\")\n",
    "CSV.write(file_param, d_param)\n",
    "for k in 1:1500\n",
    "    List_time, List_ON, List_ON_incorpo, List_OFF, List_RNA = gillespie_ON_OFF_minimal_retro_nointer(time, IDOX_tot, OFF_0, ON_0, RNA_0, k_incorpo,k_repair, k_on, k_off,k_RNA, k_d, coop_factor)\n",
    "    filename = string(path ,\"/trace_\",k,\".csv\")\n",
    "    df = DataFrame([List_time,  List_ON, List_ON_incorpo, List_OFF, List_RNA], [:List_time, :List_ON, :List_ON_incorpo, :List_OFF, :List_RNA])\n",
    "    CSV.write(filename, df)\n",
    "end"
   ]
  }
 ],
 "metadata": {
  "kernelspec": {
   "display_name": "Julia 1.4.0",
   "language": "julia",
   "name": "julia-1.4"
  },
  "language_info": {
   "file_extension": ".jl",
   "mimetype": "application/julia",
   "name": "julia",
   "version": "1.4.0"
  },
  "latex_envs": {
   "LaTeX_envs_menu_present": true,
   "autoclose": true,
   "autocomplete": true,
   "bibliofile": "biblio.bib",
   "cite_by": "apalike",
   "current_citInitial": 1,
   "eqLabelWithNumbers": true,
   "eqNumInitial": 1,
   "hotkeys": {
    "equation": "Ctrl-E",
    "itemize": "Ctrl-I"
   },
   "labels_anchors": false,
   "latex_user_defs": false,
   "report_style_numbering": false,
   "user_envs_cfg": false
  },
  "toc": {
   "base_numbering": 1,
   "nav_menu": {},
   "number_sections": true,
   "sideBar": true,
   "skip_h1_title": false,
   "title_cell": "Table of Contents",
   "title_sidebar": "Contents",
   "toc_cell": false,
   "toc_position": {},
   "toc_section_display": true,
   "toc_window_display": true
  }
 },
 "nbformat": 4,
 "nbformat_minor": 2
}
